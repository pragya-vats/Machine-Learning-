{
  "cells": [
    {
      "cell_type": "markdown",
      "id": "06987726",
      "metadata": {
        "id": "06987726"
      },
      "source": [
        "Business Objective : To develop a model for predicting fraudulent transactions for a\n",
        "financial company and use insights from the model to develop an actionable plan.\n",
        "\n",
        "**Minimize** : Fraudulent transactions\n",
        "\n",
        "**Maximize** : Profit and security"
      ]
    },
    {
      "cell_type": "markdown",
      "id": "08e5b2af",
      "metadata": {
        "id": "08e5b2af"
      },
      "source": [
        "### Data Dictionary\n",
        "\n",
        "**step** - maps a unit of time in the real world. In this case 1 step is 1 hour of time. Total steps 744 (30 days simulation).\n",
        "\n",
        "**type** - CASH-IN, CASH-OUT, DEBIT, PAYMENT and TRANSFER.\n",
        "\n",
        "**amount** - amount of the transaction in local currency.\n",
        "\n",
        "**nameOrig** - customer who started the transaction\n",
        "\n",
        "**oldbalanceOrg** - initial balance before the transaction\n",
        "\n",
        "**newbalanceOrig** - new balance after the transaction\n",
        "\n",
        "**nameDest** - customer who is the recipient of the transaction\n",
        "\n",
        "**oldbalanceDest** - initial balance recipient before the transaction. Note that there is not information for customers that start with M (Merchants).\n",
        "\n",
        "**newbalanceDest** - new balance recipient after the transaction. Note that there is not information for customers that start with M (Merchants).\n",
        "\n",
        "**isFraud** - This is the transactions made by the fraudulent agents inside the simulation. In this specific dataset the fraudulent behavior of the agents aims to profit by taking control or customers accounts and try to empty the funds by transferring to another account and then cashing out of the system.\n",
        "\n",
        "**isFlaggedFraud** - The business model aims to control massive transfers from one account to another and flags illegal attempts. An illegal attempt in this dataset is an attempt to transfer more than 200.000 in a single transaction."
      ]
    },
    {
      "cell_type": "markdown",
      "id": "e4a3ae6e",
      "metadata": {
        "id": "e4a3ae6e"
      },
      "source": [
        "### Importing necessary libraries"
      ]
    },
    {
      "cell_type": "code",
      "execution_count": null,
      "id": "fa1bd5d3",
      "metadata": {
        "id": "fa1bd5d3"
      },
      "outputs": [],
      "source": [
        "import pandas as pd\n",
        "import numpy as np\n",
        "import matplotlib.pyplot as plt\n",
        "import seaborn as sns\n",
        "\n",
        "import warnings\n",
        "warnings.filterwarnings('ignore')"
      ]
    },
    {
      "cell_type": "markdown",
      "id": "2d697c37",
      "metadata": {
        "id": "2d697c37"
      },
      "source": [
        "### Reading the dataset"
      ]
    },
    {
      "cell_type": "code",
      "execution_count": null,
      "id": "78a9ec1d",
      "metadata": {
        "id": "78a9ec1d"
      },
      "outputs": [],
      "source": [
        "data = pd.read_csv(\"Fraud.csv\")"
      ]
    },
    {
      "cell_type": "code",
      "execution_count": null,
      "id": "9ecbbd18",
      "metadata": {
        "id": "9ecbbd18",
        "outputId": "b3283fa8-5e6d-4223-c9ed-a8f9f0a107fb"
      },
      "outputs": [
        {
          "data": {
            "text/html": [
              "<div>\n",
              "<style scoped>\n",
              "    .dataframe tbody tr th:only-of-type {\n",
              "        vertical-align: middle;\n",
              "    }\n",
              "\n",
              "    .dataframe tbody tr th {\n",
              "        vertical-align: top;\n",
              "    }\n",
              "\n",
              "    .dataframe thead th {\n",
              "        text-align: right;\n",
              "    }\n",
              "</style>\n",
              "<table border=\"1\" class=\"dataframe\">\n",
              "  <thead>\n",
              "    <tr style=\"text-align: right;\">\n",
              "      <th></th>\n",
              "      <th>step</th>\n",
              "      <th>type</th>\n",
              "      <th>amount</th>\n",
              "      <th>nameOrig</th>\n",
              "      <th>oldbalanceOrg</th>\n",
              "      <th>newbalanceOrig</th>\n",
              "      <th>nameDest</th>\n",
              "      <th>oldbalanceDest</th>\n",
              "      <th>newbalanceDest</th>\n",
              "      <th>isFraud</th>\n",
              "      <th>isFlaggedFraud</th>\n",
              "    </tr>\n",
              "  </thead>\n",
              "  <tbody>\n",
              "    <tr>\n",
              "      <th>0</th>\n",
              "      <td>1</td>\n",
              "      <td>PAYMENT</td>\n",
              "      <td>9839.64</td>\n",
              "      <td>C1231006815</td>\n",
              "      <td>170136.0</td>\n",
              "      <td>160296.36</td>\n",
              "      <td>M1979787155</td>\n",
              "      <td>0.0</td>\n",
              "      <td>0.0</td>\n",
              "      <td>0</td>\n",
              "      <td>0</td>\n",
              "    </tr>\n",
              "    <tr>\n",
              "      <th>1</th>\n",
              "      <td>1</td>\n",
              "      <td>PAYMENT</td>\n",
              "      <td>1864.28</td>\n",
              "      <td>C1666544295</td>\n",
              "      <td>21249.0</td>\n",
              "      <td>19384.72</td>\n",
              "      <td>M2044282225</td>\n",
              "      <td>0.0</td>\n",
              "      <td>0.0</td>\n",
              "      <td>0</td>\n",
              "      <td>0</td>\n",
              "    </tr>\n",
              "    <tr>\n",
              "      <th>2</th>\n",
              "      <td>1</td>\n",
              "      <td>TRANSFER</td>\n",
              "      <td>181.00</td>\n",
              "      <td>C1305486145</td>\n",
              "      <td>181.0</td>\n",
              "      <td>0.00</td>\n",
              "      <td>C553264065</td>\n",
              "      <td>0.0</td>\n",
              "      <td>0.0</td>\n",
              "      <td>1</td>\n",
              "      <td>0</td>\n",
              "    </tr>\n",
              "    <tr>\n",
              "      <th>3</th>\n",
              "      <td>1</td>\n",
              "      <td>CASH_OUT</td>\n",
              "      <td>181.00</td>\n",
              "      <td>C840083671</td>\n",
              "      <td>181.0</td>\n",
              "      <td>0.00</td>\n",
              "      <td>C38997010</td>\n",
              "      <td>21182.0</td>\n",
              "      <td>0.0</td>\n",
              "      <td>1</td>\n",
              "      <td>0</td>\n",
              "    </tr>\n",
              "    <tr>\n",
              "      <th>4</th>\n",
              "      <td>1</td>\n",
              "      <td>PAYMENT</td>\n",
              "      <td>11668.14</td>\n",
              "      <td>C2048537720</td>\n",
              "      <td>41554.0</td>\n",
              "      <td>29885.86</td>\n",
              "      <td>M1230701703</td>\n",
              "      <td>0.0</td>\n",
              "      <td>0.0</td>\n",
              "      <td>0</td>\n",
              "      <td>0</td>\n",
              "    </tr>\n",
              "  </tbody>\n",
              "</table>\n",
              "</div>"
            ],
            "text/plain": [
              "   step      type    amount     nameOrig  oldbalanceOrg  newbalanceOrig  \\\n",
              "0     1   PAYMENT   9839.64  C1231006815       170136.0       160296.36   \n",
              "1     1   PAYMENT   1864.28  C1666544295        21249.0        19384.72   \n",
              "2     1  TRANSFER    181.00  C1305486145          181.0            0.00   \n",
              "3     1  CASH_OUT    181.00   C840083671          181.0            0.00   \n",
              "4     1   PAYMENT  11668.14  C2048537720        41554.0        29885.86   \n",
              "\n",
              "      nameDest  oldbalanceDest  newbalanceDest  isFraud  isFlaggedFraud  \n",
              "0  M1979787155             0.0             0.0        0               0  \n",
              "1  M2044282225             0.0             0.0        0               0  \n",
              "2   C553264065             0.0             0.0        1               0  \n",
              "3    C38997010         21182.0             0.0        1               0  \n",
              "4  M1230701703             0.0             0.0        0               0  "
            ]
          },
          "execution_count": 3,
          "metadata": {},
          "output_type": "execute_result"
        }
      ],
      "source": [
        "data.head()"
      ]
    },
    {
      "cell_type": "markdown",
      "id": "73f8e6a2",
      "metadata": {
        "id": "73f8e6a2"
      },
      "source": [
        "# Exploratory Data Analysis (EDA)"
      ]
    },
    {
      "cell_type": "code",
      "execution_count": null,
      "id": "ba2a0a81",
      "metadata": {
        "id": "ba2a0a81",
        "outputId": "0c5faef4-a24b-42e8-af39-6aa53e815e40"
      },
      "outputs": [
        {
          "data": {
            "text/plain": [
              "(6362620, 11)"
            ]
          },
          "execution_count": 4,
          "metadata": {},
          "output_type": "execute_result"
        }
      ],
      "source": [
        "# Shape of dataset\n",
        "data.shape"
      ]
    },
    {
      "cell_type": "code",
      "execution_count": null,
      "id": "ac0f59b6",
      "metadata": {
        "id": "ac0f59b6",
        "outputId": "d4eb0d0e-a4fb-4bfc-ffbe-5cbda8f80b01"
      },
      "outputs": [
        {
          "data": {
            "text/plain": [
              "step              0\n",
              "type              0\n",
              "amount            0\n",
              "nameOrig          0\n",
              "oldbalanceOrg     0\n",
              "newbalanceOrig    0\n",
              "nameDest          0\n",
              "oldbalanceDest    0\n",
              "newbalanceDest    0\n",
              "isFraud           0\n",
              "isFlaggedFraud    0\n",
              "dtype: int64"
            ]
          },
          "execution_count": 5,
          "metadata": {},
          "output_type": "execute_result"
        }
      ],
      "source": [
        "# Checking for null values\n",
        "data.isnull().sum()"
      ]
    },
    {
      "cell_type": "markdown",
      "id": "a618dd23",
      "metadata": {
        "id": "a618dd23"
      },
      "source": [
        "### There are no missing values in the dataset"
      ]
    },
    {
      "cell_type": "code",
      "execution_count": null,
      "id": "9de40a0e",
      "metadata": {
        "id": "9de40a0e",
        "outputId": "fbd7c2f9-0520-4171-97d0-1352bbf44db1"
      },
      "outputs": [
        {
          "data": {
            "text/plain": [
              "0"
            ]
          },
          "execution_count": 6,
          "metadata": {},
          "output_type": "execute_result"
        }
      ],
      "source": [
        "# Checking for duplicate values\n",
        "data.duplicated().sum()"
      ]
    },
    {
      "cell_type": "markdown",
      "id": "618cd9c5",
      "metadata": {
        "id": "618cd9c5"
      },
      "source": [
        "### There are no duplicate rows"
      ]
    },
    {
      "cell_type": "code",
      "execution_count": null,
      "id": "d25d4c68",
      "metadata": {
        "id": "d25d4c68",
        "outputId": "95bd86e3-dd34-40f0-9fb4-b2a2cda29fea"
      },
      "outputs": [
        {
          "name": "stdout",
          "output_type": "stream",
          "text": [
            "<class 'pandas.core.frame.DataFrame'>\n",
            "RangeIndex: 6362620 entries, 0 to 6362619\n",
            "Data columns (total 11 columns):\n",
            " #   Column          Dtype  \n",
            "---  ------          -----  \n",
            " 0   step            int64  \n",
            " 1   type            object \n",
            " 2   amount          float64\n",
            " 3   nameOrig        object \n",
            " 4   oldbalanceOrg   float64\n",
            " 5   newbalanceOrig  float64\n",
            " 6   nameDest        object \n",
            " 7   oldbalanceDest  float64\n",
            " 8   newbalanceDest  float64\n",
            " 9   isFraud         int64  \n",
            " 10  isFlaggedFraud  int64  \n",
            "dtypes: float64(5), int64(3), object(3)\n",
            "memory usage: 534.0+ MB\n"
          ]
        }
      ],
      "source": [
        "data.info()"
      ]
    },
    {
      "cell_type": "markdown",
      "id": "db629d0a",
      "metadata": {
        "id": "db629d0a"
      },
      "source": [
        "### Since the output feature is categorical(Fraud or not), we will check for data imbalance"
      ]
    },
    {
      "cell_type": "code",
      "execution_count": null,
      "id": "4214395f",
      "metadata": {
        "id": "4214395f",
        "outputId": "2bf0c90c-111f-444e-eed4-cd907551a417"
      },
      "outputs": [
        {
          "data": {
            "text/plain": [
              "0    6354407\n",
              "1       8213\n",
              "Name: isFraud, dtype: int64"
            ]
          },
          "execution_count": 8,
          "metadata": {},
          "output_type": "execute_result"
        }
      ],
      "source": [
        "fraud_count = data['isFraud'].value_counts()\n",
        "fraud_count"
      ]
    },
    {
      "cell_type": "code",
      "execution_count": null,
      "id": "a885e348",
      "metadata": {
        "id": "a885e348",
        "outputId": "c14e02eb-4e04-42ad-d486-d58d569bf34c"
      },
      "outputs": [
        {
          "data": {
            "text/plain": [
              "0    99.870918\n",
              "1     0.129082\n",
              "Name: isFraud, dtype: float64"
            ]
          },
          "execution_count": 9,
          "metadata": {},
          "output_type": "execute_result"
        }
      ],
      "source": [
        "percentages = data['isFraud'].value_counts(normalize=True) * 100\n",
        "percentages"
      ]
    },
    {
      "cell_type": "code",
      "execution_count": null,
      "id": "9a2b548b",
      "metadata": {
        "id": "9a2b548b",
        "outputId": "375eed51-3ad3-41a0-889e-512ebc3eefb3"
      },
      "outputs": [
        {
          "data": {
            "text/plain": [
              "<AxesSubplot:xlabel='isFraud', ylabel='count'>"
            ]
          },
          "execution_count": 10,
          "metadata": {},
          "output_type": "execute_result"
        },
        {
          "data": {
            "image/png": "[encoded data removed]",
            "text/plain": [
              "<Figure size 500x300 with 1 Axes>"
            ]
          },
          "metadata": {},
          "output_type": "display_data"
        }
      ],
      "source": [
        "plt.figure(figsize=(5,3))\n",
        "sns.countplot(data['isFraud'])"
      ]
    },
    {
      "cell_type": "markdown",
      "id": "4e5f67d3",
      "metadata": {
        "id": "4e5f67d3"
      },
      "source": [
        "### From the graph above we can see that the data is highly imbalanced. We need to make it balance for right predictions."
      ]
    },
    {
      "cell_type": "code",
      "execution_count": null,
      "id": "735a2d98",
      "metadata": {
        "id": "735a2d98"
      },
      "outputs": [],
      "source": [
        "pd.set_option('display.float_format', '{:.2f}'.format) # To see actual values"
      ]
    },
    {
      "cell_type": "code",
      "execution_count": null,
      "id": "bbe78940",
      "metadata": {
        "id": "bbe78940",
        "outputId": "1397e302-5c52-4a2a-9130-c5e8775f72b9"
      },
      "outputs": [
        {
          "data": {
            "text/html": [
              "<div>\n",
              "<style scoped>\n",
              "    .dataframe tbody tr th:only-of-type {\n",
              "        vertical-align: middle;\n",
              "    }\n",
              "\n",
              "    .dataframe tbody tr th {\n",
              "        vertical-align: top;\n",
              "    }\n",
              "\n",
              "    .dataframe thead th {\n",
              "        text-align: right;\n",
              "    }\n",
              "</style>\n",
              "<table border=\"1\" class=\"dataframe\">\n",
              "  <thead>\n",
              "    <tr style=\"text-align: right;\">\n",
              "      <th></th>\n",
              "      <th>step</th>\n",
              "      <th>amount</th>\n",
              "      <th>oldbalanceOrg</th>\n",
              "      <th>newbalanceOrig</th>\n",
              "      <th>oldbalanceDest</th>\n",
              "      <th>newbalanceDest</th>\n",
              "      <th>isFraud</th>\n",
              "      <th>isFlaggedFraud</th>\n",
              "    </tr>\n",
              "  </thead>\n",
              "  <tbody>\n",
              "    <tr>\n",
              "      <th>count</th>\n",
              "      <td>6362620.00</td>\n",
              "      <td>6362620.00</td>\n",
              "      <td>6362620.00</td>\n",
              "      <td>6362620.00</td>\n",
              "      <td>6362620.00</td>\n",
              "      <td>6362620.00</td>\n",
              "      <td>6362620.00</td>\n",
              "      <td>6362620.00</td>\n",
              "    </tr>\n",
              "    <tr>\n",
              "      <th>mean</th>\n",
              "      <td>243.40</td>\n",
              "      <td>179861.90</td>\n",
              "      <td>833883.10</td>\n",
              "      <td>855113.67</td>\n",
              "      <td>1100701.67</td>\n",
              "      <td>1224996.40</td>\n",
              "      <td>0.00</td>\n",
              "      <td>0.00</td>\n",
              "    </tr>\n",
              "    <tr>\n",
              "      <th>std</th>\n",
              "      <td>142.33</td>\n",
              "      <td>603858.23</td>\n",
              "      <td>2888242.67</td>\n",
              "      <td>2924048.50</td>\n",
              "      <td>3399180.11</td>\n",
              "      <td>3674128.94</td>\n",
              "      <td>0.04</td>\n",
              "      <td>0.00</td>\n",
              "    </tr>\n",
              "    <tr>\n",
              "      <th>min</th>\n",
              "      <td>1.00</td>\n",
              "      <td>0.00</td>\n",
              "      <td>0.00</td>\n",
              "      <td>0.00</td>\n",
              "      <td>0.00</td>\n",
              "      <td>0.00</td>\n",
              "      <td>0.00</td>\n",
              "      <td>0.00</td>\n",
              "    </tr>\n",
              "    <tr>\n",
              "      <th>25%</th>\n",
              "      <td>156.00</td>\n",
              "      <td>13389.57</td>\n",
              "      <td>0.00</td>\n",
              "      <td>0.00</td>\n",
              "      <td>0.00</td>\n",
              "      <td>0.00</td>\n",
              "      <td>0.00</td>\n",
              "      <td>0.00</td>\n",
              "    </tr>\n",
              "    <tr>\n",
              "      <th>50%</th>\n",
              "      <td>239.00</td>\n",
              "      <td>74871.94</td>\n",
              "      <td>14208.00</td>\n",
              "      <td>0.00</td>\n",
              "      <td>132705.66</td>\n",
              "      <td>214661.44</td>\n",
              "      <td>0.00</td>\n",
              "      <td>0.00</td>\n",
              "    </tr>\n",
              "    <tr>\n",
              "      <th>75%</th>\n",
              "      <td>335.00</td>\n",
              "      <td>208721.48</td>\n",
              "      <td>107315.18</td>\n",
              "      <td>144258.41</td>\n",
              "      <td>943036.71</td>\n",
              "      <td>1111909.25</td>\n",
              "      <td>0.00</td>\n",
              "      <td>0.00</td>\n",
              "    </tr>\n",
              "    <tr>\n",
              "      <th>max</th>\n",
              "      <td>743.00</td>\n",
              "      <td>92445516.64</td>\n",
              "      <td>59585040.37</td>\n",
              "      <td>49585040.37</td>\n",
              "      <td>356015889.35</td>\n",
              "      <td>356179278.92</td>\n",
              "      <td>1.00</td>\n",
              "      <td>1.00</td>\n",
              "    </tr>\n",
              "  </tbody>\n",
              "</table>\n",
              "</div>"
            ],
            "text/plain": [
              "            step      amount  oldbalanceOrg  newbalanceOrig  oldbalanceDest  \\\n",
              "count 6362620.00  6362620.00     6362620.00      6362620.00      6362620.00   \n",
              "mean      243.40   179861.90      833883.10       855113.67      1100701.67   \n",
              "std       142.33   603858.23     2888242.67      2924048.50      3399180.11   \n",
              "min         1.00        0.00           0.00            0.00            0.00   \n",
              "25%       156.00    13389.57           0.00            0.00            0.00   \n",
              "50%       239.00    74871.94       14208.00            0.00       132705.66   \n",
              "75%       335.00   208721.48      107315.18       144258.41       943036.71   \n",
              "max       743.00 92445516.64    59585040.37     49585040.37    356015889.35   \n",
              "\n",
              "       newbalanceDest    isFraud  isFlaggedFraud  \n",
              "count      6362620.00 6362620.00      6362620.00  \n",
              "mean       1224996.40       0.00            0.00  \n",
              "std        3674128.94       0.04            0.00  \n",
              "min              0.00       0.00            0.00  \n",
              "25%              0.00       0.00            0.00  \n",
              "50%         214661.44       0.00            0.00  \n",
              "75%        1111909.25       0.00            0.00  \n",
              "max      356179278.92       1.00            1.00  "
            ]
          },
          "execution_count": 12,
          "metadata": {},
          "output_type": "execute_result"
        }
      ],
      "source": [
        "data.describe()"
      ]
    },
    {
      "cell_type": "markdown",
      "id": "d6bf06fc",
      "metadata": {
        "id": "d6bf06fc"
      },
      "source": [
        "### Checking Collerelation Between Columns"
      ]
    },
    {
      "cell_type": "code",
      "execution_count": null,
      "id": "1e5a7472",
      "metadata": {
        "id": "1e5a7472",
        "outputId": "269b1a0e-5091-4da2-8920-60b5a43965fd"
      },
      "outputs": [
        {
          "data": {
            "text/html": [
              "<div>\n",
              "<style scoped>\n",
              "    .dataframe tbody tr th:only-of-type {\n",
              "        vertical-align: middle;\n",
              "    }\n",
              "\n",
              "    .dataframe tbody tr th {\n",
              "        vertical-align: top;\n",
              "    }\n",
              "\n",
              "    .dataframe thead th {\n",
              "        text-align: right;\n",
              "    }\n",
              "</style>\n",
              "<table border=\"1\" class=\"dataframe\">\n",
              "  <thead>\n",
              "    <tr style=\"text-align: right;\">\n",
              "      <th></th>\n",
              "      <th>step</th>\n",
              "      <th>amount</th>\n",
              "      <th>oldbalanceOrg</th>\n",
              "      <th>newbalanceOrig</th>\n",
              "      <th>oldbalanceDest</th>\n",
              "      <th>newbalanceDest</th>\n",
              "      <th>isFraud</th>\n",
              "      <th>isFlaggedFraud</th>\n",
              "    </tr>\n",
              "  </thead>\n",
              "  <tbody>\n",
              "    <tr>\n",
              "      <th>step</th>\n",
              "      <td>1.00</td>\n",
              "      <td>0.02</td>\n",
              "      <td>-0.01</td>\n",
              "      <td>-0.01</td>\n",
              "      <td>0.03</td>\n",
              "      <td>0.03</td>\n",
              "      <td>0.03</td>\n",
              "      <td>0.00</td>\n",
              "    </tr>\n",
              "    <tr>\n",
              "      <th>amount</th>\n",
              "      <td>0.02</td>\n",
              "      <td>1.00</td>\n",
              "      <td>-0.00</td>\n",
              "      <td>-0.01</td>\n",
              "      <td>0.29</td>\n",
              "      <td>0.46</td>\n",
              "      <td>0.08</td>\n",
              "      <td>0.01</td>\n",
              "    </tr>\n",
              "    <tr>\n",
              "      <th>oldbalanceOrg</th>\n",
              "      <td>-0.01</td>\n",
              "      <td>-0.00</td>\n",
              "      <td>1.00</td>\n",
              "      <td>1.00</td>\n",
              "      <td>0.07</td>\n",
              "      <td>0.04</td>\n",
              "      <td>0.01</td>\n",
              "      <td>0.00</td>\n",
              "    </tr>\n",
              "    <tr>\n",
              "      <th>newbalanceOrig</th>\n",
              "      <td>-0.01</td>\n",
              "      <td>-0.01</td>\n",
              "      <td>1.00</td>\n",
              "      <td>1.00</td>\n",
              "      <td>0.07</td>\n",
              "      <td>0.04</td>\n",
              "      <td>-0.01</td>\n",
              "      <td>0.00</td>\n",
              "    </tr>\n",
              "    <tr>\n",
              "      <th>oldbalanceDest</th>\n",
              "      <td>0.03</td>\n",
              "      <td>0.29</td>\n",
              "      <td>0.07</td>\n",
              "      <td>0.07</td>\n",
              "      <td>1.00</td>\n",
              "      <td>0.98</td>\n",
              "      <td>-0.01</td>\n",
              "      <td>-0.00</td>\n",
              "    </tr>\n",
              "    <tr>\n",
              "      <th>newbalanceDest</th>\n",
              "      <td>0.03</td>\n",
              "      <td>0.46</td>\n",
              "      <td>0.04</td>\n",
              "      <td>0.04</td>\n",
              "      <td>0.98</td>\n",
              "      <td>1.00</td>\n",
              "      <td>0.00</td>\n",
              "      <td>-0.00</td>\n",
              "    </tr>\n",
              "    <tr>\n",
              "      <th>isFraud</th>\n",
              "      <td>0.03</td>\n",
              "      <td>0.08</td>\n",
              "      <td>0.01</td>\n",
              "      <td>-0.01</td>\n",
              "      <td>-0.01</td>\n",
              "      <td>0.00</td>\n",
              "      <td>1.00</td>\n",
              "      <td>0.04</td>\n",
              "    </tr>\n",
              "    <tr>\n",
              "      <th>isFlaggedFraud</th>\n",
              "      <td>0.00</td>\n",
              "      <td>0.01</td>\n",
              "      <td>0.00</td>\n",
              "      <td>0.00</td>\n",
              "      <td>-0.00</td>\n",
              "      <td>-0.00</td>\n",
              "      <td>0.04</td>\n",
              "      <td>1.00</td>\n",
              "    </tr>\n",
              "  </tbody>\n",
              "</table>\n",
              "</div>"
            ],
            "text/plain": [
              "                step  amount  oldbalanceOrg  newbalanceOrig  oldbalanceDest  \\\n",
              "step            1.00    0.02          -0.01           -0.01            0.03   \n",
              "amount          0.02    1.00          -0.00           -0.01            0.29   \n",
              "oldbalanceOrg  -0.01   -0.00           1.00            1.00            0.07   \n",
              "newbalanceOrig -0.01   -0.01           1.00            1.00            0.07   \n",
              "oldbalanceDest  0.03    0.29           0.07            0.07            1.00   \n",
              "newbalanceDest  0.03    0.46           0.04            0.04            0.98   \n",
              "isFraud         0.03    0.08           0.01           -0.01           -0.01   \n",
              "isFlaggedFraud  0.00    0.01           0.00            0.00           -0.00   \n",
              "\n",
              "                newbalanceDest  isFraud  isFlaggedFraud  \n",
              "step                      0.03     0.03            0.00  \n",
              "amount                    0.46     0.08            0.01  \n",
              "oldbalanceOrg             0.04     0.01            0.00  \n",
              "newbalanceOrig            0.04    -0.01            0.00  \n",
              "oldbalanceDest            0.98    -0.01           -0.00  \n",
              "newbalanceDest            1.00     0.00           -0.00  \n",
              "isFraud                   0.00     1.00            0.04  \n",
              "isFlaggedFraud           -0.00     0.04            1.00  "
            ]
          },
          "execution_count": 13,
          "metadata": {},
          "output_type": "execute_result"
        }
      ],
      "source": [
        "data.corr()"
      ]
    },
    {
      "cell_type": "code",
      "execution_count": null,
      "id": "45ca019f",
      "metadata": {
        "id": "45ca019f",
        "outputId": "4800f31d-e643-43c9-d460-a5e80cb0aaf1"
      },
      "outputs": [
        {
          "data": {
            "text/plain": [
              "<AxesSubplot:>"
            ]
          },
          "execution_count": 14,
          "metadata": {},
          "output_type": "execute_result"
        },
        {
          "data": {
            "image/png": "[encoded data removed]",
            "text/plain": [
              "<Figure size 800x500 with 2 Axes>"
            ]
          },
          "metadata": {},
          "output_type": "display_data"
        }
      ],
      "source": [
        "plt.figure(figsize=(8,5))\n",
        "sns.heatmap(data.corr(),annot=True)"
      ]
    },
    {
      "cell_type": "markdown",
      "id": "0f4f4ac4",
      "metadata": {
        "id": "0f4f4ac4"
      },
      "source": [
        "### From the above graph, there is multi-collinearity between oldbalanceOrg and newbalanceOrig , oldbalanceDest and newbalanceDest\n",
        "\n",
        "### In this case, we can have one of the two coulmns to solve the multicollinearity problem."
      ]
    },
    {
      "cell_type": "code",
      "execution_count": null,
      "id": "5bf97c80",
      "metadata": {
        "id": "5bf97c80",
        "outputId": "88e9e4b0-98b5-46f0-c238-873a651b3fb3"
      },
      "outputs": [
        {
          "data": {
            "text/plain": [
              "step                  743\n",
              "type                    5\n",
              "amount            5316900\n",
              "nameOrig          6353307\n",
              "oldbalanceOrg     1845844\n",
              "newbalanceOrig    2682586\n",
              "nameDest          2722362\n",
              "oldbalanceDest    3614697\n",
              "newbalanceDest    3555499\n",
              "isFraud                 2\n",
              "isFlaggedFraud          2\n",
              "dtype: int64"
            ]
          },
          "execution_count": 15,
          "metadata": {},
          "output_type": "execute_result"
        }
      ],
      "source": [
        "#chcking the unique values in each column\n",
        "data.nunique()"
      ]
    },
    {
      "cell_type": "code",
      "execution_count": null,
      "id": "599c5e7b",
      "metadata": {
        "id": "599c5e7b",
        "outputId": "387329ef-cb66-43d8-8485-9836c1a5206c"
      },
      "outputs": [
        {
          "data": {
            "text/plain": [
              "<AxesSubplot:xlabel='type', ylabel='count'>"
            ]
          },
          "execution_count": 16,
          "metadata": {},
          "output_type": "execute_result"
        },
        {
          "data": {
            "image/png": "[encoded data removed]",
            "text/plain": [
              "<Figure size 640x480 with 1 Axes>"
            ]
          },
          "metadata": {},
          "output_type": "display_data"
        }
      ],
      "source": [
        "# Types of transactions\n",
        "sns.countplot(data['type'])"
      ]
    },
    {
      "cell_type": "markdown",
      "id": "a6ce028c",
      "metadata": {
        "id": "a6ce028c"
      },
      "source": [
        "### Types of transactions where fraud occurs"
      ]
    },
    {
      "cell_type": "code",
      "execution_count": null,
      "id": "de23d5e1",
      "metadata": {
        "id": "de23d5e1",
        "outputId": "50948f4d-d7ab-4800-ea62-9d326d2297b3"
      },
      "outputs": [
        {
          "data": {
            "text/plain": [
              "type\n",
              "CASH_OUT    4116\n",
              "TRANSFER    4097\n",
              "Name: isFraud, dtype: int64"
            ]
          },
          "execution_count": 17,
          "metadata": {},
          "output_type": "execute_result"
        }
      ],
      "source": [
        "data[data['isFraud']==1].groupby('type')['isFraud'].count()"
      ]
    },
    {
      "cell_type": "markdown",
      "id": "407e8dd2",
      "metadata": {
        "id": "407e8dd2"
      },
      "source": [
        "### Fradulant transactions only occurs in cash out and transfer transactions"
      ]
    },
    {
      "cell_type": "code",
      "execution_count": null,
      "id": "7a1b8907",
      "metadata": {
        "id": "7a1b8907"
      },
      "outputs": [],
      "source": [
        "ct = data[data['type'].isin(['CASH_OUT','TRANSFER'])]"
      ]
    },
    {
      "cell_type": "code",
      "execution_count": null,
      "id": "57bda94a",
      "metadata": {
        "id": "57bda94a",
        "outputId": "9185c1ae-bc22-4176-8b2c-30678d9a4ff1"
      },
      "outputs": [
        {
          "data": {
            "text/html": [
              "<div>\n",
              "<style scoped>\n",
              "    .dataframe tbody tr th:only-of-type {\n",
              "        vertical-align: middle;\n",
              "    }\n",
              "\n",
              "    .dataframe tbody tr th {\n",
              "        vertical-align: top;\n",
              "    }\n",
              "\n",
              "    .dataframe thead th {\n",
              "        text-align: right;\n",
              "    }\n",
              "</style>\n",
              "<table border=\"1\" class=\"dataframe\">\n",
              "  <thead>\n",
              "    <tr style=\"text-align: right;\">\n",
              "      <th></th>\n",
              "      <th>step</th>\n",
              "      <th>type</th>\n",
              "      <th>amount</th>\n",
              "      <th>nameOrig</th>\n",
              "      <th>oldbalanceOrg</th>\n",
              "      <th>newbalanceOrig</th>\n",
              "      <th>nameDest</th>\n",
              "      <th>oldbalanceDest</th>\n",
              "      <th>newbalanceDest</th>\n",
              "      <th>isFraud</th>\n",
              "      <th>isFlaggedFraud</th>\n",
              "    </tr>\n",
              "  </thead>\n",
              "  <tbody>\n",
              "    <tr>\n",
              "      <th>3</th>\n",
              "      <td>1</td>\n",
              "      <td>CASH_OUT</td>\n",
              "      <td>181.00</td>\n",
              "      <td>C840083671</td>\n",
              "      <td>181.00</td>\n",
              "      <td>0.00</td>\n",
              "      <td>C38997010</td>\n",
              "      <td>21182.00</td>\n",
              "      <td>0.00</td>\n",
              "      <td>1</td>\n",
              "      <td>0</td>\n",
              "    </tr>\n",
              "    <tr>\n",
              "      <th>252</th>\n",
              "      <td>1</td>\n",
              "      <td>CASH_OUT</td>\n",
              "      <td>2806.00</td>\n",
              "      <td>C2101527076</td>\n",
              "      <td>2806.00</td>\n",
              "      <td>0.00</td>\n",
              "      <td>C1007251739</td>\n",
              "      <td>26202.00</td>\n",
              "      <td>0.00</td>\n",
              "      <td>1</td>\n",
              "      <td>0</td>\n",
              "    </tr>\n",
              "    <tr>\n",
              "      <th>681</th>\n",
              "      <td>1</td>\n",
              "      <td>CASH_OUT</td>\n",
              "      <td>20128.00</td>\n",
              "      <td>C1118430673</td>\n",
              "      <td>20128.00</td>\n",
              "      <td>0.00</td>\n",
              "      <td>C339924917</td>\n",
              "      <td>6268.00</td>\n",
              "      <td>12145.85</td>\n",
              "      <td>1</td>\n",
              "      <td>0</td>\n",
              "    </tr>\n",
              "    <tr>\n",
              "      <th>724</th>\n",
              "      <td>1</td>\n",
              "      <td>CASH_OUT</td>\n",
              "      <td>416001.33</td>\n",
              "      <td>C749981943</td>\n",
              "      <td>0.00</td>\n",
              "      <td>0.00</td>\n",
              "      <td>C667346055</td>\n",
              "      <td>102.00</td>\n",
              "      <td>9291619.62</td>\n",
              "      <td>1</td>\n",
              "      <td>0</td>\n",
              "    </tr>\n",
              "    <tr>\n",
              "      <th>970</th>\n",
              "      <td>1</td>\n",
              "      <td>CASH_OUT</td>\n",
              "      <td>1277212.77</td>\n",
              "      <td>C467632528</td>\n",
              "      <td>1277212.77</td>\n",
              "      <td>0.00</td>\n",
              "      <td>C716083600</td>\n",
              "      <td>0.00</td>\n",
              "      <td>2444985.19</td>\n",
              "      <td>1</td>\n",
              "      <td>0</td>\n",
              "    </tr>\n",
              "    <tr>\n",
              "      <th>...</th>\n",
              "      <td>...</td>\n",
              "      <td>...</td>\n",
              "      <td>...</td>\n",
              "      <td>...</td>\n",
              "      <td>...</td>\n",
              "      <td>...</td>\n",
              "      <td>...</td>\n",
              "      <td>...</td>\n",
              "      <td>...</td>\n",
              "      <td>...</td>\n",
              "      <td>...</td>\n",
              "    </tr>\n",
              "    <tr>\n",
              "      <th>6362611</th>\n",
              "      <td>742</td>\n",
              "      <td>CASH_OUT</td>\n",
              "      <td>63416.99</td>\n",
              "      <td>C994950684</td>\n",
              "      <td>63416.99</td>\n",
              "      <td>0.00</td>\n",
              "      <td>C1662241365</td>\n",
              "      <td>276433.18</td>\n",
              "      <td>339850.17</td>\n",
              "      <td>1</td>\n",
              "      <td>0</td>\n",
              "    </tr>\n",
              "    <tr>\n",
              "      <th>6362613</th>\n",
              "      <td>743</td>\n",
              "      <td>CASH_OUT</td>\n",
              "      <td>1258818.82</td>\n",
              "      <td>C1436118706</td>\n",
              "      <td>1258818.82</td>\n",
              "      <td>0.00</td>\n",
              "      <td>C1240760502</td>\n",
              "      <td>503464.50</td>\n",
              "      <td>1762283.33</td>\n",
              "      <td>1</td>\n",
              "      <td>0</td>\n",
              "    </tr>\n",
              "    <tr>\n",
              "      <th>6362615</th>\n",
              "      <td>743</td>\n",
              "      <td>CASH_OUT</td>\n",
              "      <td>339682.13</td>\n",
              "      <td>C786484425</td>\n",
              "      <td>339682.13</td>\n",
              "      <td>0.00</td>\n",
              "      <td>C776919290</td>\n",
              "      <td>0.00</td>\n",
              "      <td>339682.13</td>\n",
              "      <td>1</td>\n",
              "      <td>0</td>\n",
              "    </tr>\n",
              "    <tr>\n",
              "      <th>6362617</th>\n",
              "      <td>743</td>\n",
              "      <td>CASH_OUT</td>\n",
              "      <td>6311409.28</td>\n",
              "      <td>C1162922333</td>\n",
              "      <td>6311409.28</td>\n",
              "      <td>0.00</td>\n",
              "      <td>C1365125890</td>\n",
              "      <td>68488.84</td>\n",
              "      <td>6379898.11</td>\n",
              "      <td>1</td>\n",
              "      <td>0</td>\n",
              "    </tr>\n",
              "    <tr>\n",
              "      <th>6362619</th>\n",
              "      <td>743</td>\n",
              "      <td>CASH_OUT</td>\n",
              "      <td>850002.52</td>\n",
              "      <td>C1280323807</td>\n",
              "      <td>850002.52</td>\n",
              "      <td>0.00</td>\n",
              "      <td>C873221189</td>\n",
              "      <td>6510099.11</td>\n",
              "      <td>7360101.63</td>\n",
              "      <td>1</td>\n",
              "      <td>0</td>\n",
              "    </tr>\n",
              "  </tbody>\n",
              "</table>\n",
              "<p>4116 rows × 11 columns</p>\n",
              "</div>"
            ],
            "text/plain": [
              "         step      type     amount     nameOrig  oldbalanceOrg  \\\n",
              "3           1  CASH_OUT     181.00   C840083671         181.00   \n",
              "252         1  CASH_OUT    2806.00  C2101527076        2806.00   \n",
              "681         1  CASH_OUT   20128.00  C1118430673       20128.00   \n",
              "724         1  CASH_OUT  416001.33   C749981943           0.00   \n",
              "970         1  CASH_OUT 1277212.77   C467632528     1277212.77   \n",
              "...       ...       ...        ...          ...            ...   \n",
              "6362611   742  CASH_OUT   63416.99   C994950684       63416.99   \n",
              "6362613   743  CASH_OUT 1258818.82  C1436118706     1258818.82   \n",
              "6362615   743  CASH_OUT  339682.13   C786484425      339682.13   \n",
              "6362617   743  CASH_OUT 6311409.28  C1162922333     6311409.28   \n",
              "6362619   743  CASH_OUT  850002.52  C1280323807      850002.52   \n",
              "\n",
              "         newbalanceOrig     nameDest  oldbalanceDest  newbalanceDest  isFraud  \\\n",
              "3                  0.00    C38997010        21182.00            0.00        1   \n",
              "252                0.00  C1007251739        26202.00            0.00        1   \n",
              "681                0.00   C339924917         6268.00        12145.85        1   \n",
              "724                0.00   C667346055          102.00      9291619.62        1   \n",
              "970                0.00   C716083600            0.00      2444985.19        1   \n",
              "...                 ...          ...             ...             ...      ...   \n",
              "6362611            0.00  C1662241365       276433.18       339850.17        1   \n",
              "6362613            0.00  C1240760502       503464.50      1762283.33        1   \n",
              "6362615            0.00   C776919290            0.00       339682.13        1   \n",
              "6362617            0.00  C1365125890        68488.84      6379898.11        1   \n",
              "6362619            0.00   C873221189      6510099.11      7360101.63        1   \n",
              "\n",
              "         isFlaggedFraud  \n",
              "3                     0  \n",
              "252                   0  \n",
              "681                   0  \n",
              "724                   0  \n",
              "970                   0  \n",
              "...                 ...  \n",
              "6362611               0  \n",
              "6362613               0  \n",
              "6362615               0  \n",
              "6362617               0  \n",
              "6362619               0  \n",
              "\n",
              "[4116 rows x 11 columns]"
            ]
          },
          "execution_count": 19,
          "metadata": {},
          "output_type": "execute_result"
        }
      ],
      "source": [
        "fraud_in_cash = ct[ct['type'] == 'CASH_OUT']\n",
        "fraud_in_cash[fraud_in_cash['isFraud'] == 1]"
      ]
    },
    {
      "cell_type": "markdown",
      "id": "95497a92",
      "metadata": {
        "id": "95497a92"
      },
      "source": [
        "### In fraudulant transactions of type cash out, it's noticed that the origin balance goes back to zero after the cash out"
      ]
    },
    {
      "cell_type": "code",
      "execution_count": null,
      "id": "d9223d2d",
      "metadata": {
        "id": "d9223d2d",
        "outputId": "8dea175c-2369-40d5-919e-adb013598605"
      },
      "outputs": [
        {
          "data": {
            "text/html": [
              "<div>\n",
              "<style scoped>\n",
              "    .dataframe tbody tr th:only-of-type {\n",
              "        vertical-align: middle;\n",
              "    }\n",
              "\n",
              "    .dataframe tbody tr th {\n",
              "        vertical-align: top;\n",
              "    }\n",
              "\n",
              "    .dataframe thead th {\n",
              "        text-align: right;\n",
              "    }\n",
              "</style>\n",
              "<table border=\"1\" class=\"dataframe\">\n",
              "  <thead>\n",
              "    <tr style=\"text-align: right;\">\n",
              "      <th></th>\n",
              "      <th>step</th>\n",
              "      <th>type</th>\n",
              "      <th>amount</th>\n",
              "      <th>nameOrig</th>\n",
              "      <th>oldbalanceOrg</th>\n",
              "      <th>newbalanceOrig</th>\n",
              "      <th>nameDest</th>\n",
              "      <th>oldbalanceDest</th>\n",
              "      <th>newbalanceDest</th>\n",
              "      <th>isFraud</th>\n",
              "      <th>isFlaggedFraud</th>\n",
              "    </tr>\n",
              "  </thead>\n",
              "  <tbody>\n",
              "    <tr>\n",
              "      <th>2</th>\n",
              "      <td>1</td>\n",
              "      <td>TRANSFER</td>\n",
              "      <td>181.00</td>\n",
              "      <td>C1305486145</td>\n",
              "      <td>181.00</td>\n",
              "      <td>0.00</td>\n",
              "      <td>C553264065</td>\n",
              "      <td>0.00</td>\n",
              "      <td>0.00</td>\n",
              "      <td>1</td>\n",
              "      <td>0</td>\n",
              "    </tr>\n",
              "    <tr>\n",
              "      <th>251</th>\n",
              "      <td>1</td>\n",
              "      <td>TRANSFER</td>\n",
              "      <td>2806.00</td>\n",
              "      <td>C1420196421</td>\n",
              "      <td>2806.00</td>\n",
              "      <td>0.00</td>\n",
              "      <td>C972765878</td>\n",
              "      <td>0.00</td>\n",
              "      <td>0.00</td>\n",
              "      <td>1</td>\n",
              "      <td>0</td>\n",
              "    </tr>\n",
              "    <tr>\n",
              "      <th>680</th>\n",
              "      <td>1</td>\n",
              "      <td>TRANSFER</td>\n",
              "      <td>20128.00</td>\n",
              "      <td>C137533655</td>\n",
              "      <td>20128.00</td>\n",
              "      <td>0.00</td>\n",
              "      <td>C1848415041</td>\n",
              "      <td>0.00</td>\n",
              "      <td>0.00</td>\n",
              "      <td>1</td>\n",
              "      <td>0</td>\n",
              "    </tr>\n",
              "    <tr>\n",
              "      <th>969</th>\n",
              "      <td>1</td>\n",
              "      <td>TRANSFER</td>\n",
              "      <td>1277212.77</td>\n",
              "      <td>C1334405552</td>\n",
              "      <td>1277212.77</td>\n",
              "      <td>0.00</td>\n",
              "      <td>C431687661</td>\n",
              "      <td>0.00</td>\n",
              "      <td>0.00</td>\n",
              "      <td>1</td>\n",
              "      <td>0</td>\n",
              "    </tr>\n",
              "    <tr>\n",
              "      <th>1115</th>\n",
              "      <td>1</td>\n",
              "      <td>TRANSFER</td>\n",
              "      <td>35063.63</td>\n",
              "      <td>C1364127192</td>\n",
              "      <td>35063.63</td>\n",
              "      <td>0.00</td>\n",
              "      <td>C1136419747</td>\n",
              "      <td>0.00</td>\n",
              "      <td>0.00</td>\n",
              "      <td>1</td>\n",
              "      <td>0</td>\n",
              "    </tr>\n",
              "    <tr>\n",
              "      <th>...</th>\n",
              "      <td>...</td>\n",
              "      <td>...</td>\n",
              "      <td>...</td>\n",
              "      <td>...</td>\n",
              "      <td>...</td>\n",
              "      <td>...</td>\n",
              "      <td>...</td>\n",
              "      <td>...</td>\n",
              "      <td>...</td>\n",
              "      <td>...</td>\n",
              "      <td>...</td>\n",
              "    </tr>\n",
              "    <tr>\n",
              "      <th>6362610</th>\n",
              "      <td>742</td>\n",
              "      <td>TRANSFER</td>\n",
              "      <td>63416.99</td>\n",
              "      <td>C778071008</td>\n",
              "      <td>63416.99</td>\n",
              "      <td>0.00</td>\n",
              "      <td>C1812552860</td>\n",
              "      <td>0.00</td>\n",
              "      <td>0.00</td>\n",
              "      <td>1</td>\n",
              "      <td>0</td>\n",
              "    </tr>\n",
              "    <tr>\n",
              "      <th>6362612</th>\n",
              "      <td>743</td>\n",
              "      <td>TRANSFER</td>\n",
              "      <td>1258818.82</td>\n",
              "      <td>C1531301470</td>\n",
              "      <td>1258818.82</td>\n",
              "      <td>0.00</td>\n",
              "      <td>C1470998563</td>\n",
              "      <td>0.00</td>\n",
              "      <td>0.00</td>\n",
              "      <td>1</td>\n",
              "      <td>0</td>\n",
              "    </tr>\n",
              "    <tr>\n",
              "      <th>6362614</th>\n",
              "      <td>743</td>\n",
              "      <td>TRANSFER</td>\n",
              "      <td>339682.13</td>\n",
              "      <td>C2013999242</td>\n",
              "      <td>339682.13</td>\n",
              "      <td>0.00</td>\n",
              "      <td>C1850423904</td>\n",
              "      <td>0.00</td>\n",
              "      <td>0.00</td>\n",
              "      <td>1</td>\n",
              "      <td>0</td>\n",
              "    </tr>\n",
              "    <tr>\n",
              "      <th>6362616</th>\n",
              "      <td>743</td>\n",
              "      <td>TRANSFER</td>\n",
              "      <td>6311409.28</td>\n",
              "      <td>C1529008245</td>\n",
              "      <td>6311409.28</td>\n",
              "      <td>0.00</td>\n",
              "      <td>C1881841831</td>\n",
              "      <td>0.00</td>\n",
              "      <td>0.00</td>\n",
              "      <td>1</td>\n",
              "      <td>0</td>\n",
              "    </tr>\n",
              "    <tr>\n",
              "      <th>6362618</th>\n",
              "      <td>743</td>\n",
              "      <td>TRANSFER</td>\n",
              "      <td>850002.52</td>\n",
              "      <td>C1685995037</td>\n",
              "      <td>850002.52</td>\n",
              "      <td>0.00</td>\n",
              "      <td>C2080388513</td>\n",
              "      <td>0.00</td>\n",
              "      <td>0.00</td>\n",
              "      <td>1</td>\n",
              "      <td>0</td>\n",
              "    </tr>\n",
              "  </tbody>\n",
              "</table>\n",
              "<p>4097 rows × 11 columns</p>\n",
              "</div>"
            ],
            "text/plain": [
              "         step      type     amount     nameOrig  oldbalanceOrg  \\\n",
              "2           1  TRANSFER     181.00  C1305486145         181.00   \n",
              "251         1  TRANSFER    2806.00  C1420196421        2806.00   \n",
              "680         1  TRANSFER   20128.00   C137533655       20128.00   \n",
              "969         1  TRANSFER 1277212.77  C1334405552     1277212.77   \n",
              "1115        1  TRANSFER   35063.63  C1364127192       35063.63   \n",
              "...       ...       ...        ...          ...            ...   \n",
              "6362610   742  TRANSFER   63416.99   C778071008       63416.99   \n",
              "6362612   743  TRANSFER 1258818.82  C1531301470     1258818.82   \n",
              "6362614   743  TRANSFER  339682.13  C2013999242      339682.13   \n",
              "6362616   743  TRANSFER 6311409.28  C1529008245     6311409.28   \n",
              "6362618   743  TRANSFER  850002.52  C1685995037      850002.52   \n",
              "\n",
              "         newbalanceOrig     nameDest  oldbalanceDest  newbalanceDest  isFraud  \\\n",
              "2                  0.00   C553264065            0.00            0.00        1   \n",
              "251                0.00   C972765878            0.00            0.00        1   \n",
              "680                0.00  C1848415041            0.00            0.00        1   \n",
              "969                0.00   C431687661            0.00            0.00        1   \n",
              "1115               0.00  C1136419747            0.00            0.00        1   \n",
              "...                 ...          ...             ...             ...      ...   \n",
              "6362610            0.00  C1812552860            0.00            0.00        1   \n",
              "6362612            0.00  C1470998563            0.00            0.00        1   \n",
              "6362614            0.00  C1850423904            0.00            0.00        1   \n",
              "6362616            0.00  C1881841831            0.00            0.00        1   \n",
              "6362618            0.00  C2080388513            0.00            0.00        1   \n",
              "\n",
              "         isFlaggedFraud  \n",
              "2                     0  \n",
              "251                   0  \n",
              "680                   0  \n",
              "969                   0  \n",
              "1115                  0  \n",
              "...                 ...  \n",
              "6362610               0  \n",
              "6362612               0  \n",
              "6362614               0  \n",
              "6362616               0  \n",
              "6362618               0  \n",
              "\n",
              "[4097 rows x 11 columns]"
            ]
          },
          "execution_count": 20,
          "metadata": {},
          "output_type": "execute_result"
        }
      ],
      "source": [
        "fraud_in_transfer = ct[ct['type'] == 'TRANSFER']\n",
        "fraud_in_transfer[fraud_in_transfer['isFraud'] == 1]"
      ]
    },
    {
      "cell_type": "markdown",
      "id": "91a0558c",
      "metadata": {
        "id": "91a0558c"
      },
      "source": [
        "### In Fraudulant transaction of type transfer it's noticed that the whole amount in the account of origin is emptied, with no access on Destination balance"
      ]
    },
    {
      "cell_type": "markdown",
      "id": "c135bce6",
      "metadata": {
        "id": "c135bce6"
      },
      "source": [
        "# Feature Engineering"
      ]
    },
    {
      "cell_type": "code",
      "execution_count": null,
      "id": "d1029e2f",
      "metadata": {
        "id": "d1029e2f",
        "outputId": "e70dd7c2-f84e-420a-8c5e-7545fc5ddf98"
      },
      "outputs": [
        {
          "data": {
            "text/plain": [
              "Index(['step', 'type', 'amount', 'nameOrig', 'oldbalanceOrg', 'newbalanceOrig',\n",
              "       'nameDest', 'oldbalanceDest', 'newbalanceDest', 'isFraud',\n",
              "       'isFlaggedFraud'],\n",
              "      dtype='object')"
            ]
          },
          "execution_count": 21,
          "metadata": {},
          "output_type": "execute_result"
        }
      ],
      "source": [
        "data.columns"
      ]
    },
    {
      "cell_type": "code",
      "execution_count": null,
      "id": "5dd6fb70",
      "metadata": {
        "id": "5dd6fb70"
      },
      "outputs": [],
      "source": [
        "# Using label encoder for the nameOrig and nameDest columns to numerical values\n",
        "from sklearn.preprocessing import LabelEncoder\n",
        "label= LabelEncoder()\n",
        "data[\"type\"]=label.fit_transform(data[\"type\"])\n",
        "data[\"nameOrig\"]=label.fit_transform(data[\"nameOrig\"])\n",
        "data[\"nameDest\"]=label.fit_transform(data[\"nameDest\"])"
      ]
    },
    {
      "cell_type": "code",
      "execution_count": null,
      "id": "ab940476",
      "metadata": {
        "id": "ab940476",
        "outputId": "9ce7e16c-68f7-45ca-bbed-31c34db83fc1"
      },
      "outputs": [
        {
          "data": {
            "text/html": [
              "<div>\n",
              "<style scoped>\n",
              "    .dataframe tbody tr th:only-of-type {\n",
              "        vertical-align: middle;\n",
              "    }\n",
              "\n",
              "    .dataframe tbody tr th {\n",
              "        vertical-align: top;\n",
              "    }\n",
              "\n",
              "    .dataframe thead th {\n",
              "        text-align: right;\n",
              "    }\n",
              "</style>\n",
              "<table border=\"1\" class=\"dataframe\">\n",
              "  <thead>\n",
              "    <tr style=\"text-align: right;\">\n",
              "      <th></th>\n",
              "      <th>step</th>\n",
              "      <th>type</th>\n",
              "      <th>amount</th>\n",
              "      <th>nameOrig</th>\n",
              "      <th>oldbalanceOrg</th>\n",
              "      <th>newbalanceOrig</th>\n",
              "      <th>nameDest</th>\n",
              "      <th>oldbalanceDest</th>\n",
              "      <th>newbalanceDest</th>\n",
              "      <th>isFraud</th>\n",
              "      <th>isFlaggedFraud</th>\n",
              "    </tr>\n",
              "  </thead>\n",
              "  <tbody>\n",
              "    <tr>\n",
              "      <th>0</th>\n",
              "      <td>1</td>\n",
              "      <td>3</td>\n",
              "      <td>9839.64</td>\n",
              "      <td>757869</td>\n",
              "      <td>170136.00</td>\n",
              "      <td>160296.36</td>\n",
              "      <td>1662094</td>\n",
              "      <td>0.00</td>\n",
              "      <td>0.00</td>\n",
              "      <td>0</td>\n",
              "      <td>0</td>\n",
              "    </tr>\n",
              "    <tr>\n",
              "      <th>1</th>\n",
              "      <td>1</td>\n",
              "      <td>3</td>\n",
              "      <td>1864.28</td>\n",
              "      <td>2188998</td>\n",
              "      <td>21249.00</td>\n",
              "      <td>19384.72</td>\n",
              "      <td>1733924</td>\n",
              "      <td>0.00</td>\n",
              "      <td>0.00</td>\n",
              "      <td>0</td>\n",
              "      <td>0</td>\n",
              "    </tr>\n",
              "    <tr>\n",
              "      <th>2</th>\n",
              "      <td>1</td>\n",
              "      <td>4</td>\n",
              "      <td>181.00</td>\n",
              "      <td>1002156</td>\n",
              "      <td>181.00</td>\n",
              "      <td>0.00</td>\n",
              "      <td>439685</td>\n",
              "      <td>0.00</td>\n",
              "      <td>0.00</td>\n",
              "      <td>1</td>\n",
              "      <td>0</td>\n",
              "    </tr>\n",
              "    <tr>\n",
              "      <th>3</th>\n",
              "      <td>1</td>\n",
              "      <td>1</td>\n",
              "      <td>181.00</td>\n",
              "      <td>5828262</td>\n",
              "      <td>181.00</td>\n",
              "      <td>0.00</td>\n",
              "      <td>391696</td>\n",
              "      <td>21182.00</td>\n",
              "      <td>0.00</td>\n",
              "      <td>1</td>\n",
              "      <td>0</td>\n",
              "    </tr>\n",
              "    <tr>\n",
              "      <th>4</th>\n",
              "      <td>1</td>\n",
              "      <td>3</td>\n",
              "      <td>11668.14</td>\n",
              "      <td>3445981</td>\n",
              "      <td>41554.00</td>\n",
              "      <td>29885.86</td>\n",
              "      <td>828919</td>\n",
              "      <td>0.00</td>\n",
              "      <td>0.00</td>\n",
              "      <td>0</td>\n",
              "      <td>0</td>\n",
              "    </tr>\n",
              "  </tbody>\n",
              "</table>\n",
              "</div>"
            ],
            "text/plain": [
              "   step  type   amount  nameOrig  oldbalanceOrg  newbalanceOrig  nameDest  \\\n",
              "0     1     3  9839.64    757869      170136.00       160296.36   1662094   \n",
              "1     1     3  1864.28   2188998       21249.00        19384.72   1733924   \n",
              "2     1     4   181.00   1002156         181.00            0.00    439685   \n",
              "3     1     1   181.00   5828262         181.00            0.00    391696   \n",
              "4     1     3 11668.14   3445981       41554.00        29885.86    828919   \n",
              "\n",
              "   oldbalanceDest  newbalanceDest  isFraud  isFlaggedFraud  \n",
              "0            0.00            0.00        0               0  \n",
              "1            0.00            0.00        0               0  \n",
              "2            0.00            0.00        1               0  \n",
              "3        21182.00            0.00        1               0  \n",
              "4            0.00            0.00        0               0  "
            ]
          },
          "execution_count": 28,
          "metadata": {},
          "output_type": "execute_result"
        }
      ],
      "source": [
        "data.head()"
      ]
    },
    {
      "cell_type": "code",
      "execution_count": null,
      "id": "f3e3c564",
      "metadata": {
        "id": "f3e3c564",
        "outputId": "71fbf447-5d29-432a-9dfb-64206fd5b614"
      },
      "outputs": [
        {
          "name": "stdout",
          "output_type": "stream",
          "text": [
            "<class 'pandas.core.frame.DataFrame'>\n",
            "RangeIndex: 6362620 entries, 0 to 6362619\n",
            "Data columns (total 11 columns):\n",
            " #   Column          Dtype  \n",
            "---  ------          -----  \n",
            " 0   step            int64  \n",
            " 1   type            int32  \n",
            " 2   amount          float64\n",
            " 3   nameOrig        int32  \n",
            " 4   oldbalanceOrg   float64\n",
            " 5   newbalanceOrig  float64\n",
            " 6   nameDest        int32  \n",
            " 7   oldbalanceDest  float64\n",
            " 8   newbalanceDest  float64\n",
            " 9   isFraud         int64  \n",
            " 10  isFlaggedFraud  int64  \n",
            "dtypes: float64(5), int32(3), int64(3)\n",
            "memory usage: 461.2 MB\n"
          ]
        }
      ],
      "source": [
        "data.info()"
      ]
    },
    {
      "cell_type": "code",
      "execution_count": null,
      "id": "29182de9",
      "metadata": {
        "id": "29182de9"
      },
      "outputs": [],
      "source": [
        "# Independent and dependent variable\n",
        "X = data.drop(columns=['isFraud'])\n",
        "y = data['isFraud']"
      ]
    },
    {
      "cell_type": "markdown",
      "id": "747c4e7b",
      "metadata": {
        "id": "747c4e7b"
      },
      "source": [
        "### Blancing the dataset using SMOTE"
      ]
    },
    {
      "cell_type": "code",
      "execution_count": null,
      "id": "22add741",
      "metadata": {
        "id": "22add741"
      },
      "outputs": [],
      "source": [
        "from imblearn.over_sampling import SMOTE\n",
        "over_sample = SMOTE(random_state=0)\n",
        "X,y = over_sample.fit_resample(X,y)"
      ]
    },
    {
      "cell_type": "code",
      "execution_count": null,
      "id": "2fb7c0a1",
      "metadata": {
        "id": "2fb7c0a1",
        "outputId": "f8dbf2ea-9e22-406a-f97f-fa4ec359992f"
      },
      "outputs": [
        {
          "data": {
            "text/plain": [
              "0    6354407\n",
              "1    6354407\n",
              "Name: isFraud, dtype: int64"
            ]
          },
          "execution_count": 32,
          "metadata": {},
          "output_type": "execute_result"
        }
      ],
      "source": [
        "y.value_counts()"
      ]
    },
    {
      "cell_type": "code",
      "execution_count": null,
      "id": "bf855c42",
      "metadata": {
        "id": "bf855c42"
      },
      "outputs": [],
      "source": [
        "# Train test split\n",
        "from sklearn.model_selection import train_test_split\n",
        "X_train,X_test,y_train,y_test = train_test_split(X,y,test_size=0.3,random_state=42)"
      ]
    },
    {
      "cell_type": "code",
      "execution_count": null,
      "id": "32af0f41",
      "metadata": {
        "id": "32af0f41",
        "outputId": "763b04f9-2960-40e9-cc00-8df8a20d418b"
      },
      "outputs": [
        {
          "data": {
            "text/plain": [
              "(8896169, 10)"
            ]
          },
          "execution_count": 34,
          "metadata": {},
          "output_type": "execute_result"
        }
      ],
      "source": [
        "X_train.shape"
      ]
    },
    {
      "cell_type": "code",
      "execution_count": null,
      "id": "b41737de",
      "metadata": {
        "id": "b41737de",
        "outputId": "d4677c7f-300b-483e-ee02-e3b9b114a187"
      },
      "outputs": [
        {
          "data": {
            "text/plain": [
              "(8896169,)"
            ]
          },
          "execution_count": 35,
          "metadata": {},
          "output_type": "execute_result"
        }
      ],
      "source": [
        "y_train.shape"
      ]
    },
    {
      "cell_type": "code",
      "execution_count": null,
      "id": "723d7e04",
      "metadata": {
        "id": "723d7e04"
      },
      "outputs": [],
      "source": [
        "# we need to feature scale the data\n",
        "from sklearn.preprocessing import StandardScaler\n",
        "sc = StandardScaler()\n",
        "X_train  = sc.fit_transform(X_train)\n",
        "X_test = sc.transform(X_test)"
      ]
    },
    {
      "cell_type": "markdown",
      "id": "527d0b9d",
      "metadata": {
        "id": "527d0b9d"
      },
      "source": [
        "# Model Building"
      ]
    },
    {
      "cell_type": "code",
      "execution_count": null,
      "id": "5aebb46f",
      "metadata": {
        "id": "5aebb46f"
      },
      "outputs": [],
      "source": [
        "# Performance measures\n",
        "from sklearn.metrics import accuracy_score, confusion_matrix, classification_report, recall_score, precision_score, f1_score\n",
        "def printScores(y_test, y_pred):\n",
        "    print('Confusion matrix:\\n',confusion_matrix(y_test, y_pred))\n",
        "    print('accuracy_score',accuracy_score(y_test, y_pred))\n",
        "    print('Recall_score',recall_score(y_test, y_pred))\n",
        "    print('precision_score',precision_score(y_test, y_pred))\n",
        "    print('f1_score',f1_score(y_test,y_pred))"
      ]
    },
    {
      "cell_type": "markdown",
      "id": "e30c3379",
      "metadata": {
        "id": "e30c3379"
      },
      "source": [
        "## Logistic Regression"
      ]
    },
    {
      "cell_type": "code",
      "execution_count": null,
      "id": "fd3219d4",
      "metadata": {
        "id": "fd3219d4",
        "outputId": "1e9e2d17-a4ba-4bff-ff68-a51a85d49392"
      },
      "outputs": [
        {
          "data": {
            "text/plain": [
              "LogisticRegression()"
            ]
          },
          "execution_count": 38,
          "metadata": {},
          "output_type": "execute_result"
        }
      ],
      "source": [
        "# Logistic Regression\n",
        "from sklearn.linear_model import LogisticRegression\n",
        "log_reg = LogisticRegression()\n",
        "log_reg.fit(X_train,y_train)"
      ]
    },
    {
      "cell_type": "markdown",
      "id": "34ebe3c3",
      "metadata": {
        "id": "34ebe3c3"
      },
      "source": [
        "#### Performance on Test data"
      ]
    },
    {
      "cell_type": "code",
      "execution_count": null,
      "id": "2bfbaba9",
      "metadata": {
        "id": "2bfbaba9"
      },
      "outputs": [],
      "source": [
        "pred = log_reg.predict(X_test)"
      ]
    },
    {
      "cell_type": "code",
      "execution_count": null,
      "id": "79039bae",
      "metadata": {
        "id": "79039bae",
        "outputId": "c8eabe61-5364-402c-fcc1-eccaf0f145bd"
      },
      "outputs": [
        {
          "name": "stdout",
          "output_type": "stream",
          "text": [
            "Confusion matrix:\n",
            " [[1829465   76844]\n",
            " [  81198 1825138]]\n",
            "accuracy_score 0.9585479371932084\n",
            "Recall_score 0.9574062494754335\n",
            "precision_score 0.9595979352065371\n",
            "f1_score 0.9585008394782158\n"
          ]
        }
      ],
      "source": [
        "printScores(y_test,pred)"
      ]
    },
    {
      "cell_type": "code",
      "execution_count": null,
      "id": "614113e2",
      "metadata": {
        "id": "614113e2",
        "outputId": "9e1ab99b-b223-4f1b-a341-00c8f52faab7"
      },
      "outputs": [
        {
          "name": "stdout",
          "output_type": "stream",
          "text": [
            "              precision    recall  f1-score   support\n",
            "\n",
            "           0       0.96      0.96      0.96   1906309\n",
            "           1       0.96      0.96      0.96   1906336\n",
            "\n",
            "    accuracy                           0.96   3812645\n",
            "   macro avg       0.96      0.96      0.96   3812645\n",
            "weighted avg       0.96      0.96      0.96   3812645\n",
            "\n"
          ]
        }
      ],
      "source": [
        "print(classification_report(y_test,pred))"
      ]
    },
    {
      "cell_type": "markdown",
      "id": "33a2b8a5",
      "metadata": {
        "id": "33a2b8a5"
      },
      "source": [
        "#### Performance on Train data"
      ]
    },
    {
      "cell_type": "code",
      "execution_count": null,
      "id": "33c82a99",
      "metadata": {
        "id": "33c82a99"
      },
      "outputs": [],
      "source": [
        "pred_train = log_reg.predict(X_train)"
      ]
    },
    {
      "cell_type": "code",
      "execution_count": null,
      "id": "386d2617",
      "metadata": {
        "id": "386d2617",
        "outputId": "ecf0becd-fd91-408e-bf3f-85318e9219dc"
      },
      "outputs": [
        {
          "name": "stdout",
          "output_type": "stream",
          "text": [
            "Confusion matrix:\n",
            " [[4268420  179678]\n",
            " [ 188703 4259368]]\n",
            "accuracy_score 0.958591051946068\n",
            "Recall_score 0.9575764415630955\n",
            "precision_score 0.9595232849580744\n",
            "f1_score 0.9585488747363179\n"
          ]
        }
      ],
      "source": [
        "printScores(y_train,pred_train)"
      ]
    },
    {
      "cell_type": "code",
      "execution_count": null,
      "id": "d099b009",
      "metadata": {
        "scrolled": true,
        "id": "d099b009",
        "outputId": "5f27bc29-a571-4e06-cb7b-e20f9308ebc6"
      },
      "outputs": [
        {
          "name": "stdout",
          "output_type": "stream",
          "text": [
            "              precision    recall  f1-score   support\n",
            "\n",
            "           0       0.96      0.96      0.96   4448098\n",
            "           1       0.96      0.96      0.96   4448071\n",
            "\n",
            "    accuracy                           0.96   8896169\n",
            "   macro avg       0.96      0.96      0.96   8896169\n",
            "weighted avg       0.96      0.96      0.96   8896169\n",
            "\n"
          ]
        }
      ],
      "source": [
        "print(classification_report(y_train,pred_train))"
      ]
    },
    {
      "cell_type": "markdown",
      "id": "c0cbf64a",
      "metadata": {
        "id": "c0cbf64a"
      },
      "source": [
        "### We got an accuracy of 96% in both training and testing. It means that the model is a right fit and not overfitting.\n"
      ]
    },
    {
      "cell_type": "markdown",
      "id": "504f1146",
      "metadata": {
        "id": "504f1146"
      },
      "source": [
        "# Let us flag the possible fraud situations:\n",
        "\n",
        "### First possible fraud flag:\n",
        "In fraudulent transactions, the origin account is completely emptied out\n",
        "\n",
        "So we should take into account that if the newbalance becomes zero after cash out or transfer, it might be fraudulent\n",
        "\n",
        "### Second possible fraud flag:\n",
        "Similarly, in fraudulent transactions, the newbalance in the destination account does not increase at all\n",
        "\n",
        "Means newbalance change in Destination is zero whether the transaction is transfer or cashout"
      ]
    }
  ],
  "metadata": {
    "kernelspec": {
      "display_name": "Python 3 (ipykernel)",
      "language": "python",
      "name": "python3"
    },
    "language_info": {
      "codemirror_mode": {
        "name": "ipython",
        "version": 3
      },
      "file_extension": ".py",
      "mimetype": "text/x-python",
      "name": "python",
      "nbconvert_exporter": "python",
      "pygments_lexer": "ipython3",
      "version": "3.9.13"
    },
    "colab": {
      "provenance": []
    }
  },
  "nbformat": 4,
  "nbformat_minor": 5
}